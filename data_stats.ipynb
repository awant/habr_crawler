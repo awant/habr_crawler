{
 "cells": [
  {
   "cell_type": "code",
   "execution_count": 5,
   "metadata": {},
   "outputs": [],
   "source": [
    "import numpy as np\n",
    "import pandas as pd\n",
    "import matplotlib.pyplot as plt\n",
    "import seaborn as sns\n",
    "sns.set()\n",
    "plt.rcParams[\"figure.figsize\"] = (10, 6)"
   ]
  },
  {
   "cell_type": "code",
   "execution_count": 2,
   "metadata": {},
   "outputs": [
    {
     "name": "stdout",
     "output_type": "stream",
     "text": [
      "(9362, 44)\n"
     ]
    },
    {
     "data": {
      "text/html": [
       "<div>\n",
       "<style scoped>\n",
       "    .dataframe tbody tr th:only-of-type {\n",
       "        vertical-align: middle;\n",
       "    }\n",
       "\n",
       "    .dataframe tbody tr th {\n",
       "        vertical-align: top;\n",
       "    }\n",
       "\n",
       "    .dataframe thead th {\n",
       "        text-align: right;\n",
       "    }\n",
       "</style>\n",
       "<table border=\"1\" class=\"dataframe\">\n",
       "  <thead>\n",
       "    <tr style=\"text-align: right;\">\n",
       "      <th></th>\n",
       "      <th>link</th>\n",
       "      <th>title</th>\n",
       "      <th>published_date</th>\n",
       "      <th>published_time</th>\n",
       "    </tr>\n",
       "  </thead>\n",
       "  <tbody>\n",
       "    <tr>\n",
       "      <th>0</th>\n",
       "      <td>https://habr.com/ru/post/129837/</td>\n",
       "      <td>Кодовым названием Ubuntu 12.04 будет Precise P...</td>\n",
       "      <td>2011-10-06</td>\n",
       "      <td>07:54</td>\n",
       "    </tr>\n",
       "    <tr>\n",
       "      <th>1</th>\n",
       "      <td>https://habr.com/ru/post/341756/</td>\n",
       "      <td>Unreal Engine: QuickStart в Qt Creator под Arc...</td>\n",
       "      <td>2017-11-07</td>\n",
       "      <td>01:05</td>\n",
       "    </tr>\n",
       "    <tr>\n",
       "      <th>2</th>\n",
       "      <td>https://habr.com/ru/company/mobio/blog/341826/</td>\n",
       "      <td>Денис Литвинов (COO FunCorp): продуктовые метр...</td>\n",
       "      <td>2017-11-07</td>\n",
       "      <td>13:39</td>\n",
       "    </tr>\n",
       "    <tr>\n",
       "      <th>3</th>\n",
       "      <td>https://habr.com/ru/company/teamlab/blog/341522/</td>\n",
       "      <td>ONLYOFFICE против Collabora: почему мы уверены...</td>\n",
       "      <td>2017-11-07</td>\n",
       "      <td>15:03</td>\n",
       "    </tr>\n",
       "    <tr>\n",
       "      <th>4</th>\n",
       "      <td>https://habr.com/ru/company/parallels/blog/341...</td>\n",
       "      <td>Parallels Desktop 13 — семь советов для эффект...</td>\n",
       "      <td>2017-11-07</td>\n",
       "      <td>11:04</td>\n",
       "    </tr>\n",
       "  </tbody>\n",
       "</table>\n",
       "</div>"
      ],
      "text/plain": [
       "                                                link  \\\n",
       "0                   https://habr.com/ru/post/129837/   \n",
       "1                   https://habr.com/ru/post/341756/   \n",
       "2     https://habr.com/ru/company/mobio/blog/341826/   \n",
       "3   https://habr.com/ru/company/teamlab/blog/341522/   \n",
       "4  https://habr.com/ru/company/parallels/blog/341...   \n",
       "\n",
       "                                               title published_date  \\\n",
       "0  Кодовым названием Ubuntu 12.04 будет Precise P...     2011-10-06   \n",
       "1  Unreal Engine: QuickStart в Qt Creator под Arc...     2017-11-07   \n",
       "2  Денис Литвинов (COO FunCorp): продуктовые метр...     2017-11-07   \n",
       "3  ONLYOFFICE против Collabora: почему мы уверены...     2017-11-07   \n",
       "4  Parallels Desktop 13 — семь советов для эффект...     2017-11-07   \n",
       "\n",
       "  published_time  \n",
       "0          07:54  \n",
       "1          01:05  \n",
       "2          13:39  \n",
       "3          15:03  \n",
       "4          11:04  "
      ]
     },
     "execution_count": 2,
     "metadata": {},
     "output_type": "execute_result"
    }
   ],
   "source": [
    "df = pd.read_csv('habrahabr_scraper/data/data.csv')\n",
    "df = df[df['published_date'] < '2020-01-23'] # an article age more than 1 month (to stable ratings)\n",
    "df['published_date'] = pd.to_datetime(df['published_date'])\n",
    "df['published_dayofweek'] = df['published_date'].dt.dayofweek # 0 - Monday\n",
    "df['published_dayname'] = df['published_date'].dt.day_name()\n",
    "df['published_year'] = df['published_date'].dt.year\n",
    "df['published_hour'] = df['published_time'].apply(lambda x: int(x[:2]))\n",
    "print(df.shape)\n",
    "df[['link', 'title', 'published_date', 'published_time']].head()"
   ]
  },
  {
   "cell_type": "markdown",
   "metadata": {},
   "source": [
    "#### Counters by day of week (expect different behav. on weekends)"
   ]
  },
  {
   "cell_type": "code",
   "execution_count": 6,
   "metadata": {},
   "outputs": [
    {
     "data": {
      "image/png": "[encoded data removed]",
      "text/plain": [
       "<Figure size 720x432 with 1 Axes>"
      ]
     },
     "metadata": {},
     "output_type": "display_data"
    }
   ],
   "source": [
    "sample = df[['published_dayofweek', 'published_dayname', 'rating', 'comments', 'views']].groupby(['published_dayofweek', 'published_dayname']).agg('mean').reset_index()\n",
    "width = 0.35\n",
    "x = np.arange(len(sample))\n",
    "fig, ax = plt.subplots()\n",
    "rects1 = ax.bar(x - width/2, sample['rating'], width, label='rating')\n",
    "rects2 = ax.bar(x + width/2, sample['comments'], width, label='comments')\n",
    "ax.set_ylabel('stats')\n",
    "ax.set_title('Counters by day of week')\n",
    "ax.set_xticks(x)\n",
    "ax.set_xticklabels(sample['published_dayname'])\n",
    "ax.legend()\n",
    "plt.show()"
   ]
  },
  {
   "cell_type": "markdown",
   "metadata": {},
   "source": [
    "#### Counters by hour"
   ]
  },
  {
   "cell_type": "code",
   "execution_count": 7,
   "metadata": {},
   "outputs": [
    {
     "data": {
      "image/png": "[encoded data removed]",
      "text/plain": [
       "<Figure size 720x432 with 1 Axes>"
      ]
     },
     "metadata": {},
     "output_type": "display_data"
    }
   ],
   "source": [
    "sample = df[['published_hour', 'rating', 'comments', 'views']].groupby(['published_hour']).agg('mean').reset_index()\n",
    "width = 0.35\n",
    "x = np.arange(len(sample))\n",
    "fig, ax = plt.subplots()\n",
    "rects1 = ax.bar(x - width/2, sample['rating'], width, label='rating')\n",
    "rects2 = ax.bar(x + width/2, sample['comments'], width, label='comments')\n",
    "ax.set_ylabel('stats')\n",
    "ax.set_title('Counters by hour')\n",
    "ax.set_xticks(x)\n",
    "ax.set_xticklabels(sample['published_hour'])\n",
    "ax.legend()\n",
    "plt.show()"
   ]
  },
  {
   "cell_type": "markdown",
   "metadata": {},
   "source": [
    "#### Counters by year"
   ]
  },
  {
   "cell_type": "code",
   "execution_count": 8,
   "metadata": {},
   "outputs": [
    {
     "data": {
      "image/png": "[encoded data removed]",
      "text/plain": [
       "<Figure size 720x432 with 1 Axes>"
      ]
     },
     "metadata": {},
     "output_type": "display_data"
    }
   ],
   "source": [
    "sample = df[['published_year', 'rating', 'comments']].groupby(['published_year']).agg('mean').reset_index()\n",
    "width = 0.35\n",
    "x = np.arange(len(sample))\n",
    "fig, ax = plt.subplots()\n",
    "rects1 = ax.bar(x - width/2, sample['rating'], width, label='rating')\n",
    "rects2 = ax.bar(x + width/2, sample['comments'], width, label='comments')\n",
    "ax.set_ylabel('stats')\n",
    "ax.set_title('Counters by year')\n",
    "ax.set_xticks(x)\n",
    "ax.set_xticklabels(sample['published_year'])\n",
    "ax.legend()\n",
    "plt.show()"
   ]
  },
  {
   "cell_type": "code",
   "execution_count": 9,
   "metadata": {},
   "outputs": [
    {
     "data": {
      "image/png": "[encoded data removed]",
      "text/plain": [
       "<Figure size 720x432 with 1 Axes>"
      ]
     },
     "metadata": {},
     "output_type": "display_data"
    }
   ],
   "source": [
    "# it's some approx, because it doesn't contain all articles\n",
    "sample = df[['published_year', 'rating', 'comments']].groupby(['published_year']).agg('sum').reset_index()\n",
    "width = 0.35\n",
    "x = np.arange(len(sample))\n",
    "fig, ax = plt.subplots()\n",
    "rects1 = ax.bar(x - width/2, sample['rating'], width, label='rating')\n",
    "rects2 = ax.bar(x + width/2, sample['comments'], width, label='comments')\n",
    "ax.set_ylabel('stats')\n",
    "ax.set_title('Activity by year')\n",
    "ax.set_xticks(x)\n",
    "ax.set_xticklabels(sample['published_year'])\n",
    "ax.legend()\n",
    "plt.show()"
   ]
  },
  {
   "cell_type": "markdown",
   "metadata": {},
   "source": [
    "#### Most common categories"
   ]
  },
  {
   "cell_type": "code",
   "execution_count": 10,
   "metadata": {},
   "outputs": [],
   "source": [
    "from collections import Counter"
   ]
  },
  {
   "cell_type": "code",
   "execution_count": 11,
   "metadata": {},
   "outputs": [
    {
     "data": {
      "text/plain": [
       "[('f_develop', 4945),\n",
       " ('f_popsci', 2849),\n",
       " ('f_management', 1129),\n",
       " ('f_admin', 1096),\n",
       " ('h_programming', 788),\n",
       " ('h_webdev', 681),\n",
       " ('h_closet', 640),\n",
       " ('h_infosecurity', 489),\n",
       " ('f_marketing', 451),\n",
       " ('h_javascript', 403)]"
      ]
     },
     "execution_count": 11,
     "metadata": {},
     "output_type": "execute_result"
    }
   ],
   "source": [
    "c = Counter(', '.join(list(df['article_categories'][~df['article_categories'].isnull()])).split(', '))\n",
    "most_common_article_categs = c.most_common(10)\n",
    "most_common_article_categs"
   ]
  },
  {
   "cell_type": "markdown",
   "metadata": {},
   "source": [
    "#### Most common tags"
   ]
  },
  {
   "cell_type": "code",
   "execution_count": 12,
   "metadata": {},
   "outputs": [
    {
     "data": {
      "text/plain": [
       "[('javascript', 266),\n",
       " ('java', 201),\n",
       " ('разработка', 178),\n",
       " ('python', 161),\n",
       " ('программирование', 161),\n",
       " ('android', 159),\n",
       " ('php', 150),\n",
       " ('linux', 141),\n",
       " ('google', 126),\n",
       " ('open source', 114)]"
      ]
     },
     "execution_count": 12,
     "metadata": {},
     "output_type": "execute_result"
    }
   ],
   "source": [
    "c = Counter(', '.join(list(df['tags'][~df['tags'].isnull()])).split(', '))\n",
    "most_common_tags = c.most_common(10)\n",
    "most_common_tags"
   ]
  },
  {
   "cell_type": "markdown",
   "metadata": {},
   "source": [
    "#### Views distribution. Supposed to be ~lognormal"
   ]
  },
  {
   "cell_type": "code",
   "execution_count": 13,
   "metadata": {},
   "outputs": [
    {
     "data": {
      "image/png": "[encoded data removed]",
      "text/plain": [
       "<Figure size 720x432 with 1 Axes>"
      ]
     },
     "metadata": {},
     "output_type": "display_data"
    }
   ],
   "source": [
    "plt.hist(df['views'], bins=100, color='#0504aa')\n",
    "plt.show()"
   ]
  },
  {
   "cell_type": "code",
   "execution_count": 14,
   "metadata": {},
   "outputs": [
    {
     "data": {
      "image/png": "[encoded data removed]",
      "text/plain": [
       "<Figure size 720x432 with 1 Axes>"
      ]
     },
     "metadata": {},
     "output_type": "display_data"
    }
   ],
   "source": [
    "plt.hist(np.log(df['views']+1), bins=100, color='#0504aa')\n",
    "plt.show()"
   ]
  },
  {
   "cell_type": "markdown",
   "metadata": {},
   "source": [
    "#### Article lengths"
   ]
  },
  {
   "cell_type": "code",
   "execution_count": 15,
   "metadata": {},
   "outputs": [
    {
     "data": {
      "image/png": "[encoded data removed]",
      "text/plain": [
       "<Figure size 720x432 with 1 Axes>"
      ]
     },
     "metadata": {},
     "output_type": "display_data"
    }
   ],
   "source": [
    "plt.hist(df['sentences_count'], bins=100, color='#0504aa')\n",
    "plt.show()"
   ]
  },
  {
   "cell_type": "code",
   "execution_count": 16,
   "metadata": {},
   "outputs": [
    {
     "data": {
      "image/png": "[encoded data removed]",
      "text/plain": [
       "<Figure size 720x432 with 1 Axes>"
      ]
     },
     "metadata": {},
     "output_type": "display_data"
    }
   ],
   "source": [
    "plt.hist(np.log(df['sentences_count']+1), bins=100, color='#0504aa')\n",
    "plt.show()"
   ]
  },
  {
   "cell_type": "markdown",
   "metadata": {},
   "source": [
    "#### Is there a dependency between an article length and rating (define a new rating as: positive / (positive+negative))"
   ]
  },
  {
   "cell_type": "code",
   "execution_count": 17,
   "metadata": {},
   "outputs": [
    {
     "name": "stdout",
     "output_type": "stream",
     "text": [
      "7720\n"
     ]
    }
   ],
   "source": [
    "df_sample = df[(df['positive_votes'] + df['negative_votes']) > 10].copy()\n",
    "print(len(df_sample))\n",
    "df_sample['rating_2'] = df_sample['positive_votes'] / (df_sample['positive_votes'] + df_sample['negative_votes'])"
   ]
  },
  {
   "cell_type": "markdown",
   "metadata": {},
   "source": [
    "#### Check if a new rating correlates with dayofweek"
   ]
  },
  {
   "cell_type": "code",
   "execution_count": 18,
   "metadata": {},
   "outputs": [
    {
     "data": {
      "image/png": "[encoded data removed]",
      "text/plain": [
       "<Figure size 720x432 with 1 Axes>"
      ]
     },
     "metadata": {},
     "output_type": "display_data"
    }
   ],
   "source": [
    "sample = df_sample[['published_dayofweek', 'published_dayname', 'rating_2']].groupby(['published_dayofweek', 'published_dayname']).agg('mean').reset_index()\n",
    "plt.bar(range(len(sample)), sample['rating_2'])\n",
    "plt.xticks(range(len(sample)), sample['published_dayname'])\n",
    "plt.title('Rating_2 by dayofweek')\n",
    "plt.ylabel('stats')\n",
    "plt.show()"
   ]
  },
  {
   "cell_type": "code",
   "execution_count": 19,
   "metadata": {},
   "outputs": [
    {
     "data": {
      "image/png": "[encoded data removed]",
      "text/plain": [
       "<Figure size 720x432 with 1 Axes>"
      ]
     },
     "metadata": {},
     "output_type": "display_data"
    }
   ],
   "source": [
    "plt.hist(df_sample['rating_2'], bins=100, color='#0504aa')\n",
    "plt.title('rating_2 distrib')\n",
    "plt.xlabel('rating_2')\n",
    "plt.ylabel('count')\n",
    "plt.show()"
   ]
  },
  {
   "cell_type": "code",
   "execution_count": 20,
   "metadata": {},
   "outputs": [
    {
     "data": {
      "image/png": "[encoded data removed]",
      "text/plain": [
       "<Figure size 720x432 with 1 Axes>"
      ]
     },
     "metadata": {},
     "output_type": "display_data"
    }
   ],
   "source": [
    "df_sample['rating_2_round'] = df_sample['rating_2'].apply(lambda x: round(x*10)/10)\n",
    "sample = df_sample[['rating_2_round', 'sentences_count']].groupby('rating_2_round').agg('mean').reset_index()\n",
    "\n",
    "plt.bar(range(len(sample)), sample['sentences_count'])\n",
    "plt.xticks(range(len(sample)), sample['rating_2_round'])\n",
    "plt.title('Sent length rating_2 dependency')\n",
    "plt.xlabel('rating_2')\n",
    "plt.ylabel('sentences count')\n",
    "plt.show()"
   ]
  },
  {
   "cell_type": "markdown",
   "metadata": {},
   "source": [
    "#### Of course there is a correlation between rating and how long article is"
   ]
  },
  {
   "cell_type": "markdown",
   "metadata": {},
   "source": [
    "#### Let's build a model to predict this 'normalized' rating (but there is still a room to normalize it (through time, for example)"
   ]
  },
  {
   "cell_type": "code",
   "execution_count": 21,
   "metadata": {},
   "outputs": [
    {
     "data": {
      "text/plain": [
       "({'f_admin',\n",
       "  'f_develop',\n",
       "  'f_management',\n",
       "  'f_marketing',\n",
       "  'f_popsci',\n",
       "  'h_closet',\n",
       "  'h_infosecurity',\n",
       "  'h_javascript',\n",
       "  'h_programming',\n",
       "  'h_webdev'},\n",
       " {'android',\n",
       "  'google',\n",
       "  'java',\n",
       "  'javascript',\n",
       "  'linux',\n",
       "  'open source',\n",
       "  'php',\n",
       "  'python',\n",
       "  'программирование',\n",
       "  'разработка'})"
      ]
     },
     "execution_count": 21,
     "metadata": {},
     "output_type": "execute_result"
    }
   ],
   "source": [
    "most_common_article_categs = set([x[0] for x in most_common_article_categs])\n",
    "most_common_tags = set([x[0] for x in most_common_tags])\n",
    "most_common_article_categs, most_common_tags"
   ]
  },
  {
   "cell_type": "code",
   "execution_count": 22,
   "metadata": {},
   "outputs": [],
   "source": [
    "def is_article_categ_most_common(article_categ_line):\n",
    "    if pd.isnull(article_categ_line):\n",
    "        return 0\n",
    "    categs = article_categ_line.split(', ')\n",
    "    return int(any([categ in most_common_article_categs for categ in categs]))\n",
    "\n",
    "def is_tag_most_common(tags_line):\n",
    "    if pd.isnull(tags_line):\n",
    "        return 0\n",
    "    tags = tags_line.split(', ')\n",
    "    return int(any([tag in most_common_tags for tag in tags]))"
   ]
  },
  {
   "cell_type": "code",
   "execution_count": 122,
   "metadata": {},
   "outputs": [],
   "source": [
    "df_sample['title_len'] = df_sample['title'].apply(len)\n",
    "df_sample['article_categ_cnt'] = df_sample['article_categories'].apply(lambda x: x.count(',') if pd.notnull(x) else 0)\n",
    "df_sample['tags_cnt'] = df_sample['tags'].apply(lambda x: x.count(',') if pd.notnull(x) else 0)\n",
    "df_sample['weekend'] = df_sample['published_dayofweek'].apply(lambda x: int(x in [5, 6]))\n",
    "df_sample['most_common_article_categ'] = df_sample['article_categories'].apply(is_article_categ_most_common)\n",
    "df_sample['most_common_tag'] = df_sample['tags'].apply(is_tag_most_common)\n",
    "df_sample['weight'] = df_sample['negative_votes'] + df_sample['positive_votes']"
   ]
  },
  {
   "cell_type": "code",
   "execution_count": 123,
   "metadata": {},
   "outputs": [
    {
     "data": {
      "text/plain": [
       "((7720,), (7720, 28))"
      ]
     },
     "execution_count": 123,
     "metadata": {},
     "output_type": "execute_result"
    }
   ],
   "source": [
    "features = [\n",
    "    'title_len', 'article_categ_cnt', 'href_count', 'img_count', 'tags_cnt', 'h3_count',\n",
    "    'i_count', 'spoiler_count', 'text_len', 'lines_count', 'sentences_count',\n",
    "    'max_sentence_len', 'min_sentence_len', 'mean_sentence_len', 'median_sentence_len',\n",
    "    'tokens_count', 'max_token_len', 'mean_token_len', 'median_token_len',\n",
    "    'alphabetic_tokens_count', 'words_count', 'words_mean', 'published_dayofweek',\n",
    "    'published_hour', 'weekend', 'most_common_article_categ', 'most_common_tag',\n",
    "    'weight'\n",
    "]\n",
    "\n",
    "y = df_sample['rating_2']\n",
    "X = df_sample[features]\n",
    "y.shape, X.shape"
   ]
  },
  {
   "cell_type": "markdown",
   "metadata": {},
   "source": [
    "#### target distribution"
   ]
  },
  {
   "cell_type": "code",
   "execution_count": 124,
   "metadata": {},
   "outputs": [
    {
     "data": {
      "image/png": "[encoded data removed]",
      "text/plain": [
       "<Figure size 720x432 with 1 Axes>"
      ]
     },
     "metadata": {},
     "output_type": "display_data"
    }
   ],
   "source": [
    "plt.hist(np.log(1.1-y), bins=40)\n",
    "plt.show()"
   ]
  },
  {
   "cell_type": "markdown",
   "metadata": {},
   "source": [
    "#### Translations\n",
    "1. target = log(1.1 - rating)\n",
    "2. rating = 1.1 - exp(target)"
   ]
  },
  {
   "cell_type": "code",
   "execution_count": 125,
   "metadata": {},
   "outputs": [],
   "source": [
    "from sklearn.model_selection import train_test_split\n",
    "from sklearn.metrics import mean_squared_error"
   ]
  },
  {
   "cell_type": "code",
   "execution_count": 135,
   "metadata": {},
   "outputs": [],
   "source": [
    "X_train, X_test, y_train, y_test = train_test_split(X, y, test_size=0.3, random_state=42)\n",
    "train_weights = X_train['weight']\n",
    "X_train.drop(['weight'], axis=1, inplace=True)\n",
    "X_test.drop(['weight'], axis=1, inplace=True)"
   ]
  },
  {
   "cell_type": "code",
   "execution_count": 127,
   "metadata": {},
   "outputs": [],
   "source": [
    "import lightgbm as lgb"
   ]
  },
  {
   "cell_type": "code",
   "execution_count": 145,
   "metadata": {
    "scrolled": true
   },
   "outputs": [
    {
     "name": "stdout",
     "output_type": "stream",
     "text": [
      "[1]\tvalid_0's l2: 0.243591\n",
      "Training until validation scores don't improve for 20 rounds\n",
      "[2]\tvalid_0's l2: 0.241776\n",
      "[3]\tvalid_0's l2: 0.24\n",
      "[4]\tvalid_0's l2: 0.238597\n",
      "[5]\tvalid_0's l2: 0.237154\n",
      "[6]\tvalid_0's l2: 0.235945\n",
      "[7]\tvalid_0's l2: 0.234552\n",
      "[8]\tvalid_0's l2: 0.233308\n",
      "[9]\tvalid_0's l2: 0.232072\n",
      "[10]\tvalid_0's l2: 0.230865\n",
      "[11]\tvalid_0's l2: 0.229805\n",
      "[12]\tvalid_0's l2: 0.228963\n",
      "[13]\tvalid_0's l2: 0.228284\n",
      "[14]\tvalid_0's l2: 0.227423\n",
      "[15]\tvalid_0's l2: 0.226769\n",
      "[16]\tvalid_0's l2: 0.226095\n",
      "[17]\tvalid_0's l2: 0.225403\n",
      "[18]\tvalid_0's l2: 0.224841\n",
      "[19]\tvalid_0's l2: 0.224206\n",
      "[20]\tvalid_0's l2: 0.223824\n",
      "[21]\tvalid_0's l2: 0.223494\n",
      "[22]\tvalid_0's l2: 0.223285\n",
      "[23]\tvalid_0's l2: 0.222929\n",
      "[24]\tvalid_0's l2: 0.222634\n",
      "[25]\tvalid_0's l2: 0.222139\n",
      "[26]\tvalid_0's l2: 0.221713\n",
      "[27]\tvalid_0's l2: 0.221361\n",
      "[28]\tvalid_0's l2: 0.221093\n",
      "[29]\tvalid_0's l2: 0.220867\n",
      "[30]\tvalid_0's l2: 0.220702\n",
      "[31]\tvalid_0's l2: 0.220473\n",
      "[32]\tvalid_0's l2: 0.220365\n",
      "[33]\tvalid_0's l2: 0.220066\n",
      "[34]\tvalid_0's l2: 0.219769\n",
      "[35]\tvalid_0's l2: 0.219518\n",
      "[36]\tvalid_0's l2: 0.2194\n",
      "[37]\tvalid_0's l2: 0.21927\n",
      "[38]\tvalid_0's l2: 0.219091\n",
      "[39]\tvalid_0's l2: 0.21891\n",
      "[40]\tvalid_0's l2: 0.218918\n",
      "[41]\tvalid_0's l2: 0.21892\n",
      "[42]\tvalid_0's l2: 0.218913\n",
      "[43]\tvalid_0's l2: 0.218934\n",
      "[44]\tvalid_0's l2: 0.218892\n",
      "[45]\tvalid_0's l2: 0.218744\n",
      "[46]\tvalid_0's l2: 0.218591\n",
      "[47]\tvalid_0's l2: 0.218494\n",
      "[48]\tvalid_0's l2: 0.218513\n",
      "[49]\tvalid_0's l2: 0.218467\n",
      "[50]\tvalid_0's l2: 0.218439\n",
      "[51]\tvalid_0's l2: 0.218283\n",
      "[52]\tvalid_0's l2: 0.218274\n",
      "[53]\tvalid_0's l2: 0.218323\n",
      "[54]\tvalid_0's l2: 0.218342\n",
      "[55]\tvalid_0's l2: 0.218269\n",
      "[56]\tvalid_0's l2: 0.218204\n",
      "[57]\tvalid_0's l2: 0.218246\n",
      "[58]\tvalid_0's l2: 0.218158\n",
      "[59]\tvalid_0's l2: 0.218049\n",
      "[60]\tvalid_0's l2: 0.218072\n",
      "[61]\tvalid_0's l2: 0.21817\n",
      "[62]\tvalid_0's l2: 0.218158\n",
      "[63]\tvalid_0's l2: 0.218304\n",
      "[64]\tvalid_0's l2: 0.218211\n",
      "[65]\tvalid_0's l2: 0.218296\n",
      "[66]\tvalid_0's l2: 0.218384\n",
      "[67]\tvalid_0's l2: 0.218366\n",
      "[68]\tvalid_0's l2: 0.218365\n",
      "[69]\tvalid_0's l2: 0.21841\n",
      "[70]\tvalid_0's l2: 0.218404\n",
      "[71]\tvalid_0's l2: 0.218341\n",
      "[72]\tvalid_0's l2: 0.218346\n",
      "[73]\tvalid_0's l2: 0.218411\n",
      "[74]\tvalid_0's l2: 0.218325\n",
      "[75]\tvalid_0's l2: 0.218327\n",
      "[76]\tvalid_0's l2: 0.218389\n",
      "[77]\tvalid_0's l2: 0.218511\n",
      "[78]\tvalid_0's l2: 0.21853\n",
      "[79]\tvalid_0's l2: 0.218471\n",
      "Early stopping, best iteration is:\n",
      "[59]\tvalid_0's l2: 0.218049\n"
     ]
    }
   ],
   "source": [
    "gbm = lgb.LGBMRegressor(num_leaves=31, learning_rate=0.04, n_estimators=100)\n",
    "\n",
    "gbm.fit(X_train, np.log(1.1 - y_train),\n",
    "        sample_weight=train_weights,\n",
    "        eval_set=[(X_test, np.log(1.1 - y_test))],\n",
    "        eval_metric='l2', early_stopping_rounds=20)\n",
    "y_pred = gbm.predict(X_test, num_iteration=gbm.best_iteration_)"
   ]
  },
  {
   "cell_type": "code",
   "execution_count": 137,
   "metadata": {},
   "outputs": [
    {
     "data": {
      "text/plain": [
       "array([114,  94, 101,  65,  53,  11,  24,   8,  25,  64,  50,  65,  26,\n",
       "        62,  39,  22,  32,  70,   6,  20,  18,  66,  16,  38,   0,  12,\n",
       "         9], dtype=int32)"
      ]
     },
     "execution_count": 137,
     "metadata": {},
     "output_type": "execute_result"
    }
   ],
   "source": [
    "gbm.feature_importances_"
   ]
  },
  {
   "cell_type": "code",
   "execution_count": 146,
   "metadata": {},
   "outputs": [
    {
     "data": {
      "text/plain": [
       "0.11880053790993857"
      ]
     },
     "execution_count": 146,
     "metadata": {},
     "output_type": "execute_result"
    }
   ],
   "source": [
    "mean_squared_error(y_test, 1.1 - np.exp(y_pred)) ** 0.5"
   ]
  },
  {
   "cell_type": "code",
   "execution_count": 147,
   "metadata": {},
   "outputs": [
    {
     "data": {
      "image/png": "[encoded data removed]",
      "text/plain": [
       "<Figure size 720x432 with 1 Axes>"
      ]
     },
     "metadata": {},
     "output_type": "display_data"
    }
   ],
   "source": [
    "plt.hist(1.1 - np.exp(y_pred), bins=10, label='pred')\n",
    "plt.hist(y_test, bins=10, label='true', alpha=0.8)\n",
    "plt.show()"
   ]
  },
  {
   "cell_type": "code",
   "execution_count": 140,
   "metadata": {},
   "outputs": [
    {
     "data": {
      "text/plain": [
       "array([[1.        , 0.31555309],\n",
       "       [0.31555309, 1.        ]])"
      ]
     },
     "execution_count": 140,
     "metadata": {},
     "output_type": "execute_result"
    }
   ],
   "source": [
    "np.corrcoef(y_test, 1.1 - np.exp(y_pred))"
   ]
  },
  {
   "cell_type": "code",
   "execution_count": 141,
   "metadata": {},
   "outputs": [],
   "source": [
    "sample = X_test.copy()\n",
    "sample['pred'] = y_pred\n",
    "sample = sample.sort_values('pred')"
   ]
  },
  {
   "cell_type": "code",
   "execution_count": 149,
   "metadata": {},
   "outputs": [
    {
     "name": "stdout",
     "output_type": "stream",
     "text": [
      "best articles\n",
      "    Локализация по Aruco маркерам  14  0\n",
      "    1.0\n",
      "    https://habr.com/ru/post/482220/\n",
      "    Вечная классика: чему современным экшен-играм стоит поучиться у DOOM  53  4\n",
      "    0.9298245614035088\n",
      "    https://habr.com/ru/company/playgendary/blog/477584/\n",
      "    Панель мониторинга Grafana для пивной системы BeerTender  22  1\n",
      "    0.9565217391304348\n",
      "    https://habr.com/ru/company/itsumma/blog/477870/\n",
      "    Конференция Velocity London от O'Reilly: обзор и слайды  36  0\n",
      "    1.0\n",
      "    https://habr.com/ru/company/badoo/blog/429982/\n",
      "    GitLab Shell Runner. Конкурентный запуск тестируемых сервисов при помощи Docker Compose  16  1\n",
      "    0.9411764705882353\n",
      "    https://habr.com/ru/post/449910/\n",
      "    Давайте быстрокодить как профессионалы  31  8\n",
      "    0.7948717948717948\n",
      "    https://habr.com/ru/post/484930/\n",
      "    Сети для самых маленьких. Часть седьмая. VPN  118  0\n",
      "    1.0\n",
      "    https://habr.com/ru/post/170895/\n",
      "    Логи в Kubernetes (и не только) сегодня: ожидания и реальность  39  0\n",
      "    1.0\n",
      "    https://habr.com/ru/company/flant/blog/480946/\n",
      "    Автогики, финтех и контент-маркетинг, или зачем страховщику аутсорсинг IT-редакции  21  2\n",
      "    0.9130434782608695\n",
      "    https://habr.com/ru/company/vsce/blog/452530/\n",
      "    Тысяча и один UI-баг, или Как помочь разработчику избегать типовых ошибок в UI  36  1\n",
      "    0.972972972972973\n",
      "    https://habr.com/ru/company/badoo/blog/479970/\n",
      "worst articles\n",
      "    Google расширяет контент Google News  18  1\n",
      "    0.9473684210526315\n",
      "    https://habr.com/ru/post/54926/\n",
      "    Сборка Eclipse  11  2\n",
      "    0.8461538461538461\n",
      "    https://habr.com/ru/post/11573/\n",
      "    Новый год 1936 — 2006  14  0\n",
      "    1.0\n",
      "    https://habr.com/ru/post/1060/\n",
      "    Браузеры  19  6\n",
      "    0.76\n",
      "    https://habr.com/ru/post/3358/\n",
      "    Kill Bill  26  9\n",
      "    0.7428571428571429\n",
      "    https://habr.com/ru/post/25890/\n",
      "    Негодовать сюда  104  29\n",
      "    0.7819548872180451\n",
      "    https://habr.com/ru/post/57467/\n",
      "    35-й выпуск подкаста «Откровенно про IT карьеризм». Беседа с программистом и менеджером Юрой Сильвестровым  20  11\n",
      "    0.6451612903225806\n",
      "    https://habr.com/ru/post/134459/\n",
      "    Бренд — Я  10  6\n",
      "    0.625\n",
      "    https://habr.com/ru/post/16272/\n",
      "    Прямая трансляция Windows Camp прямо на Хабре  27  11\n",
      "    0.7105263157894737\n",
      "    https://habr.com/ru/company/microsoft/blog/151038/\n",
      "    Гуглостеб  40  12\n",
      "    0.7692307692307693\n",
      "    https://habr.com/ru/post/7003/\n"
     ]
    }
   ],
   "source": [
    "articles_cnt = 10\n",
    "best_articles = [row for _, row in df_sample.loc[list(sample.index[:articles_cnt])].iterrows()]\n",
    "worst_articles = [row for _, row in df_sample.loc[list(sample.index[-articles_cnt:])].iterrows()]\n",
    "\n",
    "print('best articles')\n",
    "for article in best_articles:\n",
    "    print(f'    {article[\"title\"]}  {article[\"positive_votes\"]}  {article[\"negative_votes\"]}\\n    {article[\"rating_2\"]}\\n    {article[\"link\"]}')\n",
    "print('worst articles')\n",
    "for article in worst_articles:\n",
    "    print(f'    {article[\"title\"]}  {article[\"positive_votes\"]}  {article[\"negative_votes\"]}\\n    {article[\"rating_2\"]}\\n    {article[\"link\"]}')"
   ]
  },
  {
   "cell_type": "markdown",
   "metadata": {},
   "source": [
    "#### Although the model is weak, it can help to find more serious and thoughtful articles"
   ]
  }
 ],
 "metadata": {
  "kernelspec": {
   "display_name": "Python 3",
   "language": "python",
   "name": "python3"
  },
  "language_info": {
   "codemirror_mode": {
    "name": "ipython",
    "version": 3
   },
   "file_extension": ".py",
   "mimetype": "text/x-python",
   "name": "python",
   "nbconvert_exporter": "python",
   "pygments_lexer": "ipython3",
   "version": "3.7.3"
  }
 },
 "nbformat": 4,
 "nbformat_minor": 2
}
